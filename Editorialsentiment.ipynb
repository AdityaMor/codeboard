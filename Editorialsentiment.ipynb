{
 "cells": [
  {
   "cell_type": "code",
   "execution_count": 157,
   "metadata": {},
   "outputs": [
    {
     "name": "stdout",
     "output_type": "stream",
     "text": [
      "0.12444049661030793\n",
      "positive\n"
     ]
    }
   ],
   "source": [
    "import requests\n",
    "\n",
    "from bs4 import BeautifulSoup\n",
    "\n",
    "import re \n",
    "\n",
    "\n",
    "def sentiment(str): \n",
    "         \n",
    "#Function to classify sentiment of passed news using textblob's sentiment method \n",
    "\n",
    "        # create TextBlob object of passed tweet text \n",
    "        analysis = TextBlob(str) \n",
    "        # set sentiment \n",
    "        \n",
    "        if analysis.sentiment.polarity> 0:\n",
    "            \n",
    "            \n",
    "            return 'positive'\n",
    "        elif analysis.sentiment.polarity == 0: \n",
    "            return 'neutral'\n",
    "        else: \n",
    "            return 'negative'\n",
    "url = \"https://www.hindustantimes.com/tech/google-pixel-4-vs-samsung-galaxy-note-10-vs-apple-iphone-11-the-big-three-are-coming/story-89IW5nJh3sT7KsNTChyA5K.html\"\n",
    "\n",
    "r=requests.get(url)\n",
    "\n",
    "soup = BeautifulSoup(r.text, \"html.parser\")\n",
    "\n",
    "\n",
    "x=soup.findAll('div',attrs={\"class\":\"storyDetail\"})\n",
    "soup1=BeautifulSoup(x[0].text, \"html.parser\")\n",
    "a=soup1.prettify()\n",
    "\n",
    "\n",
    "\n",
    "for k in a.split(\"html\"):\n",
    "    (re.sub(r\"[^a-zA-Z0-9]+\", ' ', k))\n",
    "\n",
    "\n",
    "str=(re.sub(r\"[^a-zA-Z0-9]+\", ' ', k))\n",
    "print(sentiment(str))"
   ]
  },
  {
   "cell_type": "code",
   "execution_count": 2,
   "metadata": {},
   "outputs": [
    {
     "name": "stdout",
     "output_type": "stream",
     "text": [
      "input url\n",
      "https://www.hindustantimes.com/tech/google-pixel-4-vs-samsung-galaxy-note-10-vs-apple-iphone-11-the-big-three-are-coming/story-89IW5nJh3sT7KsNTChyA5K.html\n"
     ]
    }
   ],
   "source": [
    "print(\"input url\")\n",
    "url=input()"
   ]
  },
  {
   "cell_type": "code",
   "execution_count": null,
   "metadata": {},
   "outputs": [],
   "source": []
  }
 ],
 "metadata": {
  "kernelspec": {
   "display_name": "Python 3",
   "language": "python",
   "name": "python3"
  },
  "language_info": {
   "codemirror_mode": {
    "name": "ipython",
    "version": 3
   },
   "file_extension": ".py",
   "mimetype": "text/x-python",
   "name": "python",
   "nbconvert_exporter": "python",
   "pygments_lexer": "ipython3",
   "version": "3.7.3"
  }
 },
 "nbformat": 4,
 "nbformat_minor": 2
}
